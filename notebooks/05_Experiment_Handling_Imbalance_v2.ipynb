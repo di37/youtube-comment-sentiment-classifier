{
 "cells": [
  {
   "cell_type": "code",
   "execution_count": 1,
   "id": "f0b86261",
   "metadata": {},
   "outputs": [
    {
     "name": "stdout",
     "output_type": "stream",
     "text": [
      "/Users/ishamrashik/Desktop/machine-learning-and-ai-projects/community-mcp-session/aws_community_day/youtube-sentiment-insights\n"
     ]
    }
   ],
   "source": [
    "%cd .."
   ]
  },
  {
   "cell_type": "code",
   "execution_count": 2,
   "id": "85e75ba8",
   "metadata": {},
   "outputs": [],
   "source": [
    "import mlflow\n",
    "import os \n",
    "\n",
    "# Set AWS credentials (replace with your actual credentials)\n",
    "os.environ['AWS_ACCESS_KEY_ID'] = os.getenv('AWS_ACCESS_KEY_ID')\n",
    "os.environ['AWS_SECRET_ACCESS_KEY'] = os.getenv('AWS_SECRET_ACCESS_KEY')\n",
    "os.environ['AWS_DEFAULT_REGION'] = os.getenv('AWS_DEFAULT_REGION')\n",
    "\n",
    "# Then set MLflow tracking URI\n",
    "mlflow.set_tracking_uri(\"http://3.29.137.20:5000\")"
   ]
  },
  {
   "cell_type": "code",
   "execution_count": 3,
   "id": "ec411e3c",
   "metadata": {},
   "outputs": [
    {
     "name": "stderr",
     "output_type": "stream",
     "text": [
      "2025/10/12 11:56:19 INFO mlflow.tracking.fluent: Experiment with name 'Exp 4 - Handling Imbalanced Data v2' does not exist. Creating a new experiment.\n"
     ]
    },
    {
     "data": {
      "text/plain": [
       "<Experiment: artifact_location='s3://mlflow-artifacts-5fb77f1c/575620203052859044', creation_time=1760255780193, experiment_id='575620203052859044', last_update_time=1760255780193, lifecycle_stage='active', name='Exp 4 - Handling Imbalanced Data v2', tags={}>"
      ]
     },
     "execution_count": 3,
     "metadata": {},
     "output_type": "execute_result"
    }
   ],
   "source": [
    "# Set or create an experiment\n",
    "mlflow.set_experiment(\"Exp 4 - Handling Imbalanced Data v2\")"
   ]
  },
  {
   "cell_type": "code",
   "execution_count": 4,
   "id": "a3f112b4",
   "metadata": {},
   "outputs": [],
   "source": [
    "from imblearn.over_sampling import SMOTE, ADASYN\n",
    "from imblearn.under_sampling import RandomUnderSampler\n",
    "from imblearn.combine import SMOTEENN\n",
    "from sklearn.feature_extraction.text import TfidfVectorizer, CountVectorizer\n",
    "from sklearn.ensemble import RandomForestClassifier\n",
    "from sklearn.model_selection import train_test_split\n",
    "from sklearn.metrics import accuracy_score, classification_report, confusion_matrix\n",
    "import mlflow\n",
    "import mlflow.sklearn\n",
    "import matplotlib.pyplot as plt\n",
    "import seaborn as sns\n",
    "import pandas as pd\n",
    "import os"
   ]
  },
  {
   "cell_type": "code",
   "execution_count": 5,
   "id": "da01381e",
   "metadata": {},
   "outputs": [],
   "source": [
    "from utilities import load_data, INTERIM_DATA_PATH"
   ]
  },
  {
   "cell_type": "code",
   "execution_count": 6,
   "id": "e2f0564a",
   "metadata": {},
   "outputs": [
    {
     "name": "stderr",
     "output_type": "stream",
     "text": [
      "2025-10-12 11:56:31,925 - model_building - DEBUG - Data loaded from data/interim/train_processed.csv\n",
      "2025-10-12 11:56:31,928 - model_building - DEBUG - Data loaded from data/interim/val_processed.csv\n",
      "2025-10-12 11:56:31,935 - model_building - DEBUG - Data loaded from data/interim/test_processed.csv\n"
     ]
    }
   ],
   "source": [
    "train_df_path = os.path.join(INTERIM_DATA_PATH, \"train_processed.csv\")\n",
    "val_df_path = os.path.join(INTERIM_DATA_PATH, \"val_processed.csv\")\n",
    "test_df_path = os.path.join(INTERIM_DATA_PATH, \"test_processed.csv\")\n",
    "\n",
    "train_df = load_data(train_df_path)\n",
    "val_df = load_data(val_df_path)\n",
    "test_df = load_data(test_df_path)"
   ]
  },
  {
   "cell_type": "code",
   "execution_count": 8,
   "id": "d643e70f",
   "metadata": {},
   "outputs": [
    {
     "name": "stderr",
     "output_type": "stream",
     "text": [
      "2025/10/12 12:12:15 WARNING mlflow.models.model: `artifact_path` is deprecated. Please use `name` instead.\n",
      "\u001b[31m2025/10/12 12:12:17 WARNING mlflow.models.model: Model logged without a signature and input example. Please set `input_example` parameter when logging the model to auto infer the model signature.\u001b[0m\n"
     ]
    },
    {
     "name": "stdout",
     "output_type": "stream",
     "text": [
      "🏃 View run Imbalance_class_weights_RandomForest_BoW_Unigrams at: http://3.29.137.20:5000/#/experiments/575620203052859044/runs/9ddbf4deec6649e19d103c0ec9550e6e\n",
      "🧪 View experiment at: http://3.29.137.20:5000/#/experiments/575620203052859044\n"
     ]
    },
    {
     "name": "stderr",
     "output_type": "stream",
     "text": [
      "2025/10/12 12:13:06 WARNING mlflow.models.model: `artifact_path` is deprecated. Please use `name` instead.\n",
      "\u001b[31m2025/10/12 12:13:08 WARNING mlflow.models.model: Model logged without a signature and input example. Please set `input_example` parameter when logging the model to auto infer the model signature.\u001b[0m\n"
     ]
    },
    {
     "name": "stdout",
     "output_type": "stream",
     "text": [
      "🏃 View run Imbalance_oversampling_RandomForest_BoW_Unigrams at: http://3.29.137.20:5000/#/experiments/575620203052859044/runs/231a84a9d3bc4610b18b07cc09a95137\n",
      "🧪 View experiment at: http://3.29.137.20:5000/#/experiments/575620203052859044\n"
     ]
    },
    {
     "name": "stderr",
     "output_type": "stream",
     "text": [
      "2025/10/12 12:14:03 WARNING mlflow.models.model: `artifact_path` is deprecated. Please use `name` instead.\n",
      "\u001b[31m2025/10/12 12:14:05 WARNING mlflow.models.model: Model logged without a signature and input example. Please set `input_example` parameter when logging the model to auto infer the model signature.\u001b[0m\n"
     ]
    },
    {
     "name": "stdout",
     "output_type": "stream",
     "text": [
      "🏃 View run Imbalance_adasyn_RandomForest_BoW_Unigrams at: http://3.29.137.20:5000/#/experiments/575620203052859044/runs/a86c708ab7ed42e4b55c51ef09828185\n",
      "🧪 View experiment at: http://3.29.137.20:5000/#/experiments/575620203052859044\n"
     ]
    },
    {
     "name": "stderr",
     "output_type": "stream",
     "text": [
      "2025/10/12 12:14:12 WARNING mlflow.models.model: `artifact_path` is deprecated. Please use `name` instead.\n",
      "\u001b[31m2025/10/12 12:14:13 WARNING mlflow.models.model: Model logged without a signature and input example. Please set `input_example` parameter when logging the model to auto infer the model signature.\u001b[0m\n"
     ]
    },
    {
     "name": "stdout",
     "output_type": "stream",
     "text": [
      "🏃 View run Imbalance_undersampling_RandomForest_BoW_Unigrams at: http://3.29.137.20:5000/#/experiments/575620203052859044/runs/6206da69cde34214a731e569c5c0ac23\n",
      "🧪 View experiment at: http://3.29.137.20:5000/#/experiments/575620203052859044\n"
     ]
    },
    {
     "name": "stderr",
     "output_type": "stream",
     "text": [
      "2025/10/12 12:14:53 WARNING mlflow.models.model: `artifact_path` is deprecated. Please use `name` instead.\n",
      "\u001b[31m2025/10/12 12:14:55 WARNING mlflow.models.model: Model logged without a signature and input example. Please set `input_example` parameter when logging the model to auto infer the model signature.\u001b[0m\n"
     ]
    },
    {
     "name": "stdout",
     "output_type": "stream",
     "text": [
      "🏃 View run Imbalance_smote_enn_RandomForest_BoW_Unigrams at: http://3.29.137.20:5000/#/experiments/575620203052859044/runs/535d5efedb554cc0a7d653c45a187971\n",
      "🧪 View experiment at: http://3.29.137.20:5000/#/experiments/575620203052859044\n"
     ]
    }
   ],
   "source": [
    "# Step 1: Function to run the experiment\n",
    "def run_imbalanced_experiment(imbalance_method):\n",
    "    ngram_range = (1, 1)  # Trigram setting\n",
    "    max_features = 10000  # Set max_features to 1000 for BoW\n",
    "\n",
    "    # Step 2: Vectorization using BoW with varying max_features\n",
    "    vectorizer = CountVectorizer(ngram_range=ngram_range, max_features=max_features)\n",
    "\n",
    "    # Step 1: Vectorize the text comments (Bag of Words)\n",
    "    X_train_text = vectorizer.fit_transform(train_df['clean_comment']).toarray()\n",
    "    X_val_text = vectorizer.transform(val_df['clean_comment']).toarray()\n",
    "\n",
    "    # Step 2: Extract numerical features\n",
    "    # Define the numerical feature columns to include\n",
    "    numerical_features = ['word_count', 'num_stop_words', 'num_chars', 'num_chars_cleaned']\n",
    "\n",
    "    X_train_numerical = train_df[numerical_features].values\n",
    "    X_val_numerical = val_df[numerical_features].values\n",
    "\n",
    "    # Step 3: Combine text features with numerical features\n",
    "    import numpy as np\n",
    "\n",
    "    X_train = np.hstack([X_train_text, X_train_numerical])\n",
    "    X_val = np.hstack([X_val_text, X_val_numerical])\n",
    "\n",
    "    # Target variable\n",
    "    y_train = train_df['category']\n",
    "    y_val = val_df['category']\n",
    "\n",
    "    # Step 3: Handle class imbalance based on the selected method (only applied to the training set)\n",
    "    if imbalance_method == 'class_weights':\n",
    "        # Use class_weight in Random Forest\n",
    "        class_weight = 'balanced'\n",
    "    else:\n",
    "        class_weight = None  # Do not apply class_weight if using resampling\n",
    "\n",
    "        # Resampling Techniques (only apply to the training set)\n",
    "        if imbalance_method == 'oversampling':\n",
    "            smote = SMOTE(random_state=42)\n",
    "            X_train, y_train = smote.fit_resample(X_train, y_train)\n",
    "        elif imbalance_method == 'adasyn':\n",
    "            adasyn = ADASYN(random_state=42)\n",
    "            X_train, y_train = adasyn.fit_resample(X_train, y_train)\n",
    "        elif imbalance_method == 'undersampling':\n",
    "            rus = RandomUnderSampler(random_state=42)\n",
    "            X_train, y_train = rus.fit_resample(X_train, y_train)\n",
    "        elif imbalance_method == 'smote_enn':\n",
    "            smote_enn = SMOTEENN(random_state=42)\n",
    "            X_train, y_train = smote_enn.fit_resample(X_train, y_train)\n",
    "\n",
    "    # Step 5: Define and train a Random Forest model\n",
    "    with mlflow.start_run() as run:\n",
    "        # Set tags for the experiment and run\n",
    "        mlflow.set_tag(\"mlflow.runName\", f\"Imbalance_{imbalance_method}_RandomForest_BoW_Unigrams\")\n",
    "        mlflow.set_tag(\"experiment_type\", \"imbalance_handling\")\n",
    "        mlflow.set_tag(\"model_type\", \"RandomForestClassifier\")\n",
    "\n",
    "        # Add a description\n",
    "        mlflow.set_tag(\"description\", f\"RandomForest with BoW Unigrams, imbalance handling method={imbalance_method}\")\n",
    "\n",
    "        # Log vectorizer parameters\n",
    "        mlflow.log_param(\"vectorizer_type\", \"BoW\")\n",
    "        mlflow.log_param(\"ngram_range\", ngram_range)\n",
    "        mlflow.log_param(\"vectorizer_max_features\", max_features)\n",
    "\n",
    "        # Log Random Forest parameters\n",
    "        n_estimators = 200\n",
    "        max_depth = 15\n",
    "\n",
    "        mlflow.log_param(\"n_estimators\", n_estimators)\n",
    "        mlflow.log_param(\"max_depth\", max_depth)\n",
    "        mlflow.log_param(\"imbalance_method\", imbalance_method)\n",
    "\n",
    "        # Initialize and train the model\n",
    "        model = RandomForestClassifier(n_estimators=n_estimators, max_depth=max_depth, random_state=42, class_weight=class_weight)\n",
    "        model.fit(X_train, y_train)\n",
    "\n",
    "        # Step 6: Make predictions and log metrics\n",
    "        y_pred = model.predict(X_val)\n",
    "\n",
    "        # Log accuracy\n",
    "        accuracy = accuracy_score(y_val, y_pred)\n",
    "        mlflow.log_metric(\"accuracy\", accuracy)\n",
    "\n",
    "        # Log classification report\n",
    "        classification_rep = classification_report(y_val, y_pred, output_dict=True)\n",
    "        for label, metrics in classification_rep.items():\n",
    "            if isinstance(metrics, dict):\n",
    "                for metric, value in metrics.items():\n",
    "                    mlflow.log_metric(f\"{label}_{metric}\", value)\n",
    "\n",
    "        # Log confusion matrix\n",
    "        conf_matrix = confusion_matrix(y_val, y_pred)\n",
    "        plt.figure(figsize=(8, 6))\n",
    "        sns.heatmap(conf_matrix, annot=True, fmt=\"d\", cmap=\"Blues\")\n",
    "        plt.xlabel(\"Predicted\")\n",
    "        plt.ylabel(\"Actual\")\n",
    "        plt.title(f\"Confusion Matrix: BoW Unigrams, Imbalance={imbalance_method}\")\n",
    "        confusion_matrix_filename = f\"confusion_matrix_{imbalance_method}.png\"\n",
    "        plt.savefig(confusion_matrix_filename)\n",
    "        mlflow.log_artifact(confusion_matrix_filename)\n",
    "        plt.close()\n",
    "\n",
    "        # Log the model\n",
    "        mlflow.sklearn.log_model(model, f\"random_forest_model_bow_unigrams_imbalance_{imbalance_method}\")\n",
    "\n",
    "# Step 7: Run experiments for different imbalance methods\n",
    "imbalance_methods = ['class_weights', 'oversampling', 'adasyn', 'undersampling', 'smote_enn']\n",
    "\n",
    "for method in imbalance_methods:\n",
    "    run_imbalanced_experiment(method)\n"
   ]
  }
 ],
 "metadata": {
  "kernelspec": {
   "display_name": "mlops_aws_community",
   "language": "python",
   "name": "python3"
  },
  "language_info": {
   "codemirror_mode": {
    "name": "ipython",
    "version": 3
   },
   "file_extension": ".py",
   "mimetype": "text/x-python",
   "name": "python",
   "nbconvert_exporter": "python",
   "pygments_lexer": "ipython3",
   "version": "3.12.11"
  }
 },
 "nbformat": 4,
 "nbformat_minor": 5
}
