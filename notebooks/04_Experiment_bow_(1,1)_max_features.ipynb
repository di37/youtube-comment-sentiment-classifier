{
 "cells": [
  {
   "cell_type": "code",
   "execution_count": 1,
   "id": "ea464d04",
   "metadata": {},
   "outputs": [
    {
     "name": "stdout",
     "output_type": "stream",
     "text": [
      "/Users/ishamrashik/Desktop/machine-learning-and-ai-projects/community-mcp-session/aws_community_day/youtube-sentiment-insights\n"
     ]
    }
   ],
   "source": [
    "%cd .."
   ]
  },
  {
   "cell_type": "code",
   "execution_count": 2,
   "id": "bde67d0c",
   "metadata": {},
   "outputs": [],
   "source": [
    "import mlflow\n",
    "import os \n",
    "\n",
    "# Set AWS credentials (replace with your actual credentials)\n",
    "os.environ['AWS_ACCESS_KEY_ID'] = os.getenv('AWS_ACCESS_KEY_ID')\n",
    "os.environ['AWS_SECRET_ACCESS_KEY'] = os.getenv('AWS_SECRET_ACCESS_KEY')\n",
    "os.environ['AWS_DEFAULT_REGION'] = os.getenv('AWS_DEFAULT_REGION')\n",
    "\n",
    "# Then set MLflow tracking URI\n",
    "mlflow.set_tracking_uri(\"http://3.29.137.20:5000\")"
   ]
  },
  {
   "cell_type": "code",
   "execution_count": 3,
   "id": "bbea798e",
   "metadata": {},
   "outputs": [
    {
     "name": "stderr",
     "output_type": "stream",
     "text": [
      "2025/10/12 11:41:59 INFO mlflow.tracking.fluent: Experiment with name 'Exp 3 - Bow Unigram max_features' does not exist. Creating a new experiment.\n"
     ]
    },
    {
     "data": {
      "text/plain": [
       "<Experiment: artifact_location='s3://mlflow-artifacts-5fb77f1c/634153878952468140', creation_time=1760254919388, experiment_id='634153878952468140', last_update_time=1760254919388, lifecycle_stage='active', name='Exp 3 - Bow Unigram max_features', tags={}>"
      ]
     },
     "execution_count": 3,
     "metadata": {},
     "output_type": "execute_result"
    }
   ],
   "source": [
    "# Set or create an experiment\n",
    "mlflow.set_experiment(\"Exp 3 - Bow Unigram max_features\")"
   ]
  },
  {
   "cell_type": "code",
   "execution_count": 4,
   "id": "7e2baef7",
   "metadata": {},
   "outputs": [],
   "source": [
    "from sklearn.feature_extraction.text import TfidfVectorizer, CountVectorizer\n",
    "from sklearn.ensemble import RandomForestClassifier\n",
    "from sklearn.model_selection import train_test_split\n",
    "from sklearn.metrics import accuracy_score, classification_report, confusion_matrix\n",
    "import mlflow\n",
    "import mlflow.sklearn\n",
    "import matplotlib.pyplot as plt\n",
    "import seaborn as sns\n",
    "import pandas as pd\n",
    "import os"
   ]
  },
  {
   "cell_type": "code",
   "execution_count": 5,
   "id": "b382c99c",
   "metadata": {},
   "outputs": [],
   "source": [
    "from utilities import load_data, INTERIM_DATA_PATH"
   ]
  },
  {
   "cell_type": "code",
   "execution_count": 6,
   "id": "f1287fc8",
   "metadata": {},
   "outputs": [
    {
     "name": "stderr",
     "output_type": "stream",
     "text": [
      "2025-10-12 11:49:52,258 - model_building - DEBUG - Data loaded from data/interim/train_processed.csv\n"
     ]
    },
    {
     "name": "stderr",
     "output_type": "stream",
     "text": [
      "2025-10-12 11:49:52,262 - model_building - DEBUG - Data loaded from data/interim/val_processed.csv\n",
      "2025-10-12 11:49:52,267 - model_building - DEBUG - Data loaded from data/interim/test_processed.csv\n"
     ]
    }
   ],
   "source": [
    "train_df_path = os.path.join(INTERIM_DATA_PATH, \"train_processed.csv\")\n",
    "val_df_path = os.path.join(INTERIM_DATA_PATH, \"val_processed.csv\")\n",
    "test_df_path = os.path.join(INTERIM_DATA_PATH, \"test_processed.csv\")\n",
    "\n",
    "train_df = load_data(train_df_path)\n",
    "val_df = load_data(val_df_path)\n",
    "test_df = load_data(test_df_path)"
   ]
  },
  {
   "cell_type": "code",
   "execution_count": 7,
   "id": "82c3c453",
   "metadata": {},
   "outputs": [
    {
     "name": "stderr",
     "output_type": "stream",
     "text": [
      "2025/10/12 11:50:10 WARNING mlflow.models.model: `artifact_path` is deprecated. Please use `name` instead.\n",
      "\u001b[31m2025/10/12 11:50:12 WARNING mlflow.models.model: Model logged without a signature and input example. Please set `input_example` parameter when logging the model to auto infer the model signature.\u001b[0m\n"
     ]
    },
    {
     "name": "stdout",
     "output_type": "stream",
     "text": [
      "🏃 View run TFIDF_Trigrams_max_features_1000 at: http://3.29.137.20:5000/#/experiments/634153878952468140/runs/ddbde8078b544f139c4c861bf294e1b5\n",
      "🧪 View experiment at: http://3.29.137.20:5000/#/experiments/634153878952468140\n"
     ]
    },
    {
     "name": "stderr",
     "output_type": "stream",
     "text": [
      "2025/10/12 11:50:18 WARNING mlflow.models.model: `artifact_path` is deprecated. Please use `name` instead.\n",
      "\u001b[31m2025/10/12 11:50:19 WARNING mlflow.models.model: Model logged without a signature and input example. Please set `input_example` parameter when logging the model to auto infer the model signature.\u001b[0m\n"
     ]
    },
    {
     "name": "stdout",
     "output_type": "stream",
     "text": [
      "🏃 View run TFIDF_Trigrams_max_features_2000 at: http://3.29.137.20:5000/#/experiments/634153878952468140/runs/603d4652f9c34425b760ac099db1e7cd\n",
      "🧪 View experiment at: http://3.29.137.20:5000/#/experiments/634153878952468140\n"
     ]
    },
    {
     "name": "stderr",
     "output_type": "stream",
     "text": [
      "2025/10/12 11:50:26 WARNING mlflow.models.model: `artifact_path` is deprecated. Please use `name` instead.\n",
      "\u001b[31m2025/10/12 11:50:28 WARNING mlflow.models.model: Model logged without a signature and input example. Please set `input_example` parameter when logging the model to auto infer the model signature.\u001b[0m\n"
     ]
    },
    {
     "name": "stdout",
     "output_type": "stream",
     "text": [
      "🏃 View run TFIDF_Trigrams_max_features_3000 at: http://3.29.137.20:5000/#/experiments/634153878952468140/runs/3396b813b766401ea3dbefc8dac60586\n",
      "🧪 View experiment at: http://3.29.137.20:5000/#/experiments/634153878952468140\n"
     ]
    },
    {
     "name": "stderr",
     "output_type": "stream",
     "text": [
      "2025/10/12 11:50:35 WARNING mlflow.models.model: `artifact_path` is deprecated. Please use `name` instead.\n",
      "\u001b[31m2025/10/12 11:50:37 WARNING mlflow.models.model: Model logged without a signature and input example. Please set `input_example` parameter when logging the model to auto infer the model signature.\u001b[0m\n"
     ]
    },
    {
     "name": "stdout",
     "output_type": "stream",
     "text": [
      "🏃 View run TFIDF_Trigrams_max_features_4000 at: http://3.29.137.20:5000/#/experiments/634153878952468140/runs/98787b28d4c9433d840b1d8857922c0e\n",
      "🧪 View experiment at: http://3.29.137.20:5000/#/experiments/634153878952468140\n"
     ]
    },
    {
     "name": "stderr",
     "output_type": "stream",
     "text": [
      "2025/10/12 11:50:47 WARNING mlflow.models.model: `artifact_path` is deprecated. Please use `name` instead.\n",
      "\u001b[31m2025/10/12 11:50:49 WARNING mlflow.models.model: Model logged without a signature and input example. Please set `input_example` parameter when logging the model to auto infer the model signature.\u001b[0m\n"
     ]
    },
    {
     "name": "stdout",
     "output_type": "stream",
     "text": [
      "🏃 View run TFIDF_Trigrams_max_features_5000 at: http://3.29.137.20:5000/#/experiments/634153878952468140/runs/4d28f0e59e674aae8c3033c328bbd220\n",
      "🧪 View experiment at: http://3.29.137.20:5000/#/experiments/634153878952468140\n"
     ]
    },
    {
     "name": "stderr",
     "output_type": "stream",
     "text": [
      "2025/10/12 11:51:01 WARNING mlflow.models.model: `artifact_path` is deprecated. Please use `name` instead.\n",
      "\u001b[31m2025/10/12 11:51:04 WARNING mlflow.models.model: Model logged without a signature and input example. Please set `input_example` parameter when logging the model to auto infer the model signature.\u001b[0m\n"
     ]
    },
    {
     "name": "stdout",
     "output_type": "stream",
     "text": [
      "🏃 View run TFIDF_Trigrams_max_features_6000 at: http://3.29.137.20:5000/#/experiments/634153878952468140/runs/534cac131bc44fcebf9e960fa30cfd6d\n",
      "🧪 View experiment at: http://3.29.137.20:5000/#/experiments/634153878952468140\n"
     ]
    },
    {
     "name": "stderr",
     "output_type": "stream",
     "text": [
      "2025/10/12 11:51:17 WARNING mlflow.models.model: `artifact_path` is deprecated. Please use `name` instead.\n",
      "\u001b[31m2025/10/12 11:51:19 WARNING mlflow.models.model: Model logged without a signature and input example. Please set `input_example` parameter when logging the model to auto infer the model signature.\u001b[0m\n"
     ]
    },
    {
     "name": "stdout",
     "output_type": "stream",
     "text": [
      "🏃 View run TFIDF_Trigrams_max_features_7000 at: http://3.29.137.20:5000/#/experiments/634153878952468140/runs/90ed85b14160491ba75f5f7687894cae\n",
      "🧪 View experiment at: http://3.29.137.20:5000/#/experiments/634153878952468140\n"
     ]
    },
    {
     "name": "stderr",
     "output_type": "stream",
     "text": [
      "2025/10/12 11:51:35 WARNING mlflow.models.model: `artifact_path` is deprecated. Please use `name` instead.\n",
      "\u001b[31m2025/10/12 11:51:37 WARNING mlflow.models.model: Model logged without a signature and input example. Please set `input_example` parameter when logging the model to auto infer the model signature.\u001b[0m\n"
     ]
    },
    {
     "name": "stdout",
     "output_type": "stream",
     "text": [
      "🏃 View run TFIDF_Trigrams_max_features_8000 at: http://3.29.137.20:5000/#/experiments/634153878952468140/runs/f0be273f8b184541812bf39305dddcee\n",
      "🧪 View experiment at: http://3.29.137.20:5000/#/experiments/634153878952468140\n"
     ]
    },
    {
     "name": "stderr",
     "output_type": "stream",
     "text": [
      "2025/10/12 11:51:55 WARNING mlflow.models.model: `artifact_path` is deprecated. Please use `name` instead.\n",
      "\u001b[31m2025/10/12 11:51:57 WARNING mlflow.models.model: Model logged without a signature and input example. Please set `input_example` parameter when logging the model to auto infer the model signature.\u001b[0m\n"
     ]
    },
    {
     "name": "stdout",
     "output_type": "stream",
     "text": [
      "🏃 View run TFIDF_Trigrams_max_features_9000 at: http://3.29.137.20:5000/#/experiments/634153878952468140/runs/e45b0d73abab45f099b14244709999d1\n",
      "🧪 View experiment at: http://3.29.137.20:5000/#/experiments/634153878952468140\n"
     ]
    },
    {
     "name": "stderr",
     "output_type": "stream",
     "text": [
      "2025/10/12 11:52:16 WARNING mlflow.models.model: `artifact_path` is deprecated. Please use `name` instead.\n",
      "\u001b[31m2025/10/12 11:52:18 WARNING mlflow.models.model: Model logged without a signature and input example. Please set `input_example` parameter when logging the model to auto infer the model signature.\u001b[0m\n"
     ]
    },
    {
     "name": "stdout",
     "output_type": "stream",
     "text": [
      "🏃 View run TFIDF_Trigrams_max_features_10000 at: http://3.29.137.20:5000/#/experiments/634153878952468140/runs/ef5f4bddb1de4f68bc3f140a8e452c55\n",
      "🧪 View experiment at: http://3.29.137.20:5000/#/experiments/634153878952468140\n"
     ]
    }
   ],
   "source": [
    "# Step 1: Function to run the experiment\n",
    "def run_experiment_bow_max_features(max_features):\n",
    "    ngram_range = (1, 1)  # Trigram setting\n",
    "\n",
    "    # Step 2: Vectorization using TF-IDF with varying max_features\n",
    "    vectorizer = CountVectorizer(ngram_range=ngram_range, max_features=max_features)\n",
    "\n",
    "    # Step 1: Vectorize the text comments (Bag of Words)\n",
    "    X_train_text = vectorizer.fit_transform(train_df['clean_comment']).toarray()\n",
    "    X_val_text = vectorizer.transform(val_df['clean_comment']).toarray()\n",
    "\n",
    "    # Step 2: Extract numerical features\n",
    "    # Define the numerical feature columns to include\n",
    "    numerical_features = ['word_count', 'num_stop_words', 'num_chars', 'num_chars_cleaned']\n",
    "\n",
    "    X_train_numerical = train_df[numerical_features].values\n",
    "    X_val_numerical = val_df[numerical_features].values\n",
    "\n",
    "    # Step 3: Combine text features with numerical features\n",
    "    import numpy as np\n",
    "\n",
    "    X_train = np.hstack([X_train_text, X_train_numerical])\n",
    "    X_val = np.hstack([X_val_text, X_val_numerical])\n",
    "\n",
    "    # Target variable\n",
    "    y_train = train_df['category']\n",
    "    y_val = val_df['category']\n",
    "\n",
    "\n",
    "    # Step 4: Define and train a Random Forest model\n",
    "    with mlflow.start_run() as run:\n",
    "        # Set tags for the experiment and run\n",
    "        mlflow.set_tag(\"mlflow.runName\", f\"TFIDF_Trigrams_max_features_{max_features}\")\n",
    "        mlflow.set_tag(\"experiment_type\", \"feature_engineering\")\n",
    "        mlflow.set_tag(\"model_type\", \"RandomForestClassifier\")\n",
    "\n",
    "        # Add a description\n",
    "        mlflow.set_tag(\"description\", f\"RandomForest with TF-IDF Trigrams, max_features={max_features}\")\n",
    "\n",
    "        # Log vectorizer parameters\n",
    "        mlflow.log_param(\"vectorizer_type\", \"TF-IDF\")\n",
    "        mlflow.log_param(\"ngram_range\", ngram_range)\n",
    "        mlflow.log_param(\"vectorizer_max_features\", max_features)\n",
    "\n",
    "        # Log Random Forest parameters\n",
    "        n_estimators = 200\n",
    "        max_depth = 15\n",
    "\n",
    "        mlflow.log_param(\"n_estimators\", n_estimators)\n",
    "        mlflow.log_param(\"max_depth\", max_depth)\n",
    "\n",
    "        # Initialize and train the model\n",
    "        model = RandomForestClassifier(n_estimators=n_estimators, max_depth=max_depth, random_state=42)\n",
    "        model.fit(X_train, y_train)\n",
    "\n",
    "        # Step 5: Make predictions and log metrics\n",
    "        y_pred = model.predict(X_val)\n",
    "\n",
    "        # Log accuracy\n",
    "        accuracy = accuracy_score(y_val, y_pred)\n",
    "        mlflow.log_metric(\"accuracy\", accuracy)\n",
    "\n",
    "        # Log classification report\n",
    "        classification_rep = classification_report(y_val, y_pred, output_dict=True)\n",
    "        for label, metrics in classification_rep.items():\n",
    "            if isinstance(metrics, dict):\n",
    "                for metric, value in metrics.items():\n",
    "                    mlflow.log_metric(f\"{label}_{metric}\", value)\n",
    "\n",
    "        # Log confusion matrix\n",
    "        conf_matrix = confusion_matrix(y_val, y_pred)\n",
    "        plt.figure(figsize=(8, 6))\n",
    "        sns.heatmap(conf_matrix, annot=True, fmt=\"d\", cmap=\"Blues\")\n",
    "        plt.xlabel(\"Predicted\")\n",
    "        plt.ylabel(\"Actual\")\n",
    "        plt.title(f\"Confusion Matrix: TF-IDF Trigrams, max_features={max_features}\")\n",
    "        plt.savefig(\"confusion_matrix.png\")\n",
    "        mlflow.log_artifact(\"confusion_matrix.png\")\n",
    "        plt.close()\n",
    "\n",
    "        # Log the model\n",
    "        mlflow.sklearn.log_model(model, f\"random_forest_model_tfidf_trigrams_{max_features}\")\n",
    "\n",
    "# Step 6: Test various max_features values\n",
    "max_features_values = [1000, 2000, 3000, 4000, 5000, 6000, 7000, 8000, 9000, 10000]\n",
    "\n",
    "for max_features in max_features_values:\n",
    "    run_experiment_bow_max_features(max_features)"
   ]
  }
 ],
 "metadata": {
  "kernelspec": {
   "display_name": "mlops_aws_community",
   "language": "python",
   "name": "python3"
  },
  "language_info": {
   "codemirror_mode": {
    "name": "ipython",
    "version": 3
   },
   "file_extension": ".py",
   "mimetype": "text/x-python",
   "name": "python",
   "nbconvert_exporter": "python",
   "pygments_lexer": "ipython3",
   "version": "3.12.11"
  }
 },
 "nbformat": 4,
 "nbformat_minor": 5
}
