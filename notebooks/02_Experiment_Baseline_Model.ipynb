{
 "cells": [
  {
   "cell_type": "code",
   "execution_count": 1,
   "id": "136c9fe6",
   "metadata": {},
   "outputs": [
    {
     "name": "stdout",
     "output_type": "stream",
     "text": [
      "/Users/ishamrashik/Desktop/machine-learning-and-ai-projects/community-mcp-session/aws_community_day/youtube-sentiment-insights\n"
     ]
    }
   ],
   "source": [
    "%cd .."
   ]
  },
  {
   "cell_type": "code",
   "execution_count": 2,
   "id": "276e077b",
   "metadata": {},
   "outputs": [
    {
     "name": "stderr",
     "output_type": "stream",
     "text": [
      "[nltk_data] Downloading package wordnet to\n",
      "[nltk_data]     /Users/ishamrashik/nltk_data...\n",
      "[nltk_data]   Package wordnet is already up-to-date!\n",
      "[nltk_data] Downloading package stopwords to\n",
      "[nltk_data]     /Users/ishamrashik/nltk_data...\n",
      "[nltk_data]   Package stopwords is already up-to-date!\n",
      "[nltk_data] Downloading package omw-1.4 to\n",
      "[nltk_data]     /Users/ishamrashik/nltk_data...\n",
      "[nltk_data]   Package omw-1.4 is already up-to-date!\n"
     ]
    }
   ],
   "source": [
    "from data_handling import download_and_copy_dataset, preprocess_comment, feature_engineering, split_data\n",
    "from utilities import save_data\n",
    "from utilities import INTERIM_DATA_PATH\n",
    "import pandas as pd"
   ]
  },
  {
   "cell_type": "markdown",
   "id": "7b2d761f",
   "metadata": {},
   "source": [
    "## Data Ingestion"
   ]
  },
  {
   "cell_type": "code",
   "execution_count": 3,
   "id": "eaad3cef",
   "metadata": {},
   "outputs": [
    {
     "name": "stderr",
     "output_type": "stream",
     "text": [
      "2025-10-12 02:18:08,716 - data_ingestion - DEBUG - Dataset downloaded and copied successfully to data/raw\n"
     ]
    },
    {
     "name": "stdout",
     "output_type": "stream",
     "text": [
      "✓ Dataset downloaded successfully!\n",
      "Cache location: /Users/ishamrashik/.cache/kagglehub/datasets/atifaliak/youtube-comments-dataset/versions/1\n",
      "\n",
      "Copying files to data/raw/...\n",
      "============================================================\n",
      "  ✓ YoutubeCommentsDataSet.csv (3.33 MB)\n",
      "============================================================\n",
      "✓ Successfully copied 1 file(s)\n",
      "\n",
      "Dataset saved to: /Users/ishamrashik/Desktop/machine-learning-and-ai-projects/community-mcp-session/aws_community_day/youtube-sentiment-insights/data/raw\n",
      "CSV file found: data/raw/YoutubeCommentsDataSet.csv\n"
     ]
    }
   ],
   "source": [
    "dataset_path = download_and_copy_dataset()"
   ]
  },
  {
   "cell_type": "code",
   "execution_count": 4,
   "id": "bb9d2043",
   "metadata": {},
   "outputs": [
    {
     "data": {
      "text/html": [
       "<div>\n",
       "<style scoped>\n",
       "    .dataframe tbody tr th:only-of-type {\n",
       "        vertical-align: middle;\n",
       "    }\n",
       "\n",
       "    .dataframe tbody tr th {\n",
       "        vertical-align: top;\n",
       "    }\n",
       "\n",
       "    .dataframe thead th {\n",
       "        text-align: right;\n",
       "    }\n",
       "</style>\n",
       "<table border=\"1\" class=\"dataframe\">\n",
       "  <thead>\n",
       "    <tr style=\"text-align: right;\">\n",
       "      <th></th>\n",
       "      <th>Comment</th>\n",
       "      <th>Sentiment</th>\n",
       "    </tr>\n",
       "  </thead>\n",
       "  <tbody>\n",
       "    <tr>\n",
       "      <th>0</th>\n",
       "      <td>lets not forget that apple pay in 2014 require...</td>\n",
       "      <td>neutral</td>\n",
       "    </tr>\n",
       "    <tr>\n",
       "      <th>1</th>\n",
       "      <td>here in nz 50 of retailers don’t even have con...</td>\n",
       "      <td>negative</td>\n",
       "    </tr>\n",
       "    <tr>\n",
       "      <th>2</th>\n",
       "      <td>i will forever acknowledge this channel with t...</td>\n",
       "      <td>positive</td>\n",
       "    </tr>\n",
       "    <tr>\n",
       "      <th>3</th>\n",
       "      <td>whenever i go to a place that doesn’t take app...</td>\n",
       "      <td>negative</td>\n",
       "    </tr>\n",
       "    <tr>\n",
       "      <th>4</th>\n",
       "      <td>apple pay is so convenient secure and easy to ...</td>\n",
       "      <td>positive</td>\n",
       "    </tr>\n",
       "    <tr>\n",
       "      <th>...</th>\n",
       "      <td>...</td>\n",
       "      <td>...</td>\n",
       "    </tr>\n",
       "    <tr>\n",
       "      <th>18403</th>\n",
       "      <td>i really like the point about engineering tool...</td>\n",
       "      <td>positive</td>\n",
       "    </tr>\n",
       "    <tr>\n",
       "      <th>18404</th>\n",
       "      <td>i’ve just started exploring this field and thi...</td>\n",
       "      <td>positive</td>\n",
       "    </tr>\n",
       "    <tr>\n",
       "      <th>18405</th>\n",
       "      <td>excelente video con una pregunta filosófica pr...</td>\n",
       "      <td>neutral</td>\n",
       "    </tr>\n",
       "    <tr>\n",
       "      <th>18406</th>\n",
       "      <td>hey daniel just discovered your channel a coup...</td>\n",
       "      <td>positive</td>\n",
       "    </tr>\n",
       "    <tr>\n",
       "      <th>18407</th>\n",
       "      <td>this is great focus is key a playful approach ...</td>\n",
       "      <td>positive</td>\n",
       "    </tr>\n",
       "  </tbody>\n",
       "</table>\n",
       "<p>18408 rows × 2 columns</p>\n",
       "</div>"
      ],
      "text/plain": [
       "                                                 Comment Sentiment\n",
       "0      lets not forget that apple pay in 2014 require...   neutral\n",
       "1      here in nz 50 of retailers don’t even have con...  negative\n",
       "2      i will forever acknowledge this channel with t...  positive\n",
       "3      whenever i go to a place that doesn’t take app...  negative\n",
       "4      apple pay is so convenient secure and easy to ...  positive\n",
       "...                                                  ...       ...\n",
       "18403  i really like the point about engineering tool...  positive\n",
       "18404  i’ve just started exploring this field and thi...  positive\n",
       "18405  excelente video con una pregunta filosófica pr...   neutral\n",
       "18406  hey daniel just discovered your channel a coup...  positive\n",
       "18407  this is great focus is key a playful approach ...  positive\n",
       "\n",
       "[18408 rows x 2 columns]"
      ]
     },
     "execution_count": 4,
     "metadata": {},
     "output_type": "execute_result"
    }
   ],
   "source": [
    "df = pd.read_csv(dataset_path)\n",
    "df"
   ]
  },
  {
   "cell_type": "markdown",
   "id": "aef0d22d",
   "metadata": {},
   "source": [
    "## Train, Validation and Test Split"
   ]
  },
  {
   "cell_type": "code",
   "execution_count": 5,
   "id": "81ec03e1",
   "metadata": {},
   "outputs": [
    {
     "name": "stderr",
     "output_type": "stream",
     "text": [
      "2025-10-12 02:18:08,768 - data_preprocessing - DEBUG - Starting data split with test_size=0.2, val_size=0.1, random_state=42\n",
      "2025-10-12 02:18:08,782 - data_preprocessing - DEBUG - Data split completed successfully:\n",
      "2025-10-12 02:18:08,782 - data_preprocessing - DEBUG -   - Train set: 12885 samples (70.00%)\n",
      "2025-10-12 02:18:08,783 - data_preprocessing - DEBUG -   - Validation set: 1841 samples (10.00%)\n",
      "2025-10-12 02:18:08,783 - data_preprocessing - DEBUG -   - Test set: 3682 samples (20.00%)\n"
     ]
    }
   ],
   "source": [
    "train_data, val_data, test_data = split_data(df, stratify_column='Sentiment')"
   ]
  },
  {
   "cell_type": "code",
   "execution_count": 6,
   "id": "9cff9e92",
   "metadata": {},
   "outputs": [
    {
     "data": {
      "text/html": [
       "<div>\n",
       "<style scoped>\n",
       "    .dataframe tbody tr th:only-of-type {\n",
       "        vertical-align: middle;\n",
       "    }\n",
       "\n",
       "    .dataframe tbody tr th {\n",
       "        vertical-align: top;\n",
       "    }\n",
       "\n",
       "    .dataframe thead th {\n",
       "        text-align: right;\n",
       "    }\n",
       "</style>\n",
       "<table border=\"1\" class=\"dataframe\">\n",
       "  <thead>\n",
       "    <tr style=\"text-align: right;\">\n",
       "      <th></th>\n",
       "      <th>Comment</th>\n",
       "      <th>Sentiment</th>\n",
       "    </tr>\n",
       "  </thead>\n",
       "  <tbody>\n",
       "    <tr>\n",
       "      <th>4798</th>\n",
       "      <td>040 grandmaster vs computer super blue first p...</td>\n",
       "      <td>negative</td>\n",
       "    </tr>\n",
       "    <tr>\n",
       "      <th>17320</th>\n",
       "      <td>thank you so much i am so happy i found your c...</td>\n",
       "      <td>positive</td>\n",
       "    </tr>\n",
       "    <tr>\n",
       "      <th>4632</th>\n",
       "      <td>hope lichess remains as the forbidden platform...</td>\n",
       "      <td>neutral</td>\n",
       "    </tr>\n",
       "    <tr>\n",
       "      <th>1327</th>\n",
       "      <td>maguire needs a standing ovation for staying o...</td>\n",
       "      <td>positive</td>\n",
       "    </tr>\n",
       "    <tr>\n",
       "      <th>16856</th>\n",
       "      <td>shilpa was absolutely hilarious in this film o...</td>\n",
       "      <td>positive</td>\n",
       "    </tr>\n",
       "    <tr>\n",
       "      <th>...</th>\n",
       "      <td>...</td>\n",
       "      <td>...</td>\n",
       "    </tr>\n",
       "    <tr>\n",
       "      <th>4803</th>\n",
       "      <td>35000 awkwardthe interview is happening with t...</td>\n",
       "      <td>negative</td>\n",
       "    </tr>\n",
       "    <tr>\n",
       "      <th>13715</th>\n",
       "      <td>it’s really interesting to think about how an ...</td>\n",
       "      <td>positive</td>\n",
       "    </tr>\n",
       "    <tr>\n",
       "      <th>3091</th>\n",
       "      <td>me follows steps perfectly and slowly and succ...</td>\n",
       "      <td>positive</td>\n",
       "    </tr>\n",
       "    <tr>\n",
       "      <th>9364</th>\n",
       "      <td>lets just take a moment to appreciate the time...</td>\n",
       "      <td>positive</td>\n",
       "    </tr>\n",
       "    <tr>\n",
       "      <th>15475</th>\n",
       "      <td>this is the same guy that said a screen protec...</td>\n",
       "      <td>negative</td>\n",
       "    </tr>\n",
       "  </tbody>\n",
       "</table>\n",
       "<p>12885 rows × 2 columns</p>\n",
       "</div>"
      ],
      "text/plain": [
       "                                                 Comment Sentiment\n",
       "4798   040 grandmaster vs computer super blue first p...  negative\n",
       "17320  thank you so much i am so happy i found your c...  positive\n",
       "4632   hope lichess remains as the forbidden platform...   neutral\n",
       "1327   maguire needs a standing ovation for staying o...  positive\n",
       "16856  shilpa was absolutely hilarious in this film o...  positive\n",
       "...                                                  ...       ...\n",
       "4803   35000 awkwardthe interview is happening with t...  negative\n",
       "13715  it’s really interesting to think about how an ...  positive\n",
       "3091   me follows steps perfectly and slowly and succ...  positive\n",
       "9364   lets just take a moment to appreciate the time...  positive\n",
       "15475  this is the same guy that said a screen protec...  negative\n",
       "\n",
       "[12885 rows x 2 columns]"
      ]
     },
     "execution_count": 6,
     "metadata": {},
     "output_type": "execute_result"
    }
   ],
   "source": [
    "train_data"
   ]
  },
  {
   "cell_type": "markdown",
   "id": "a754ca27",
   "metadata": {},
   "source": [
    "## Data Pre-processing and Feature Engineering"
   ]
  },
  {
   "cell_type": "code",
   "execution_count": 7,
   "id": "f2138137",
   "metadata": {},
   "outputs": [
    {
     "name": "stderr",
     "output_type": "stream",
     "text": [
      "2025-10-12 02:18:10,608 - data_preprocessing - DEBUG - Feature engineering completed\n",
      "2025-10-12 02:18:10,750 - data_preprocessing - DEBUG - Feature engineering completed\n",
      "2025-10-12 02:18:11,034 - data_preprocessing - DEBUG - Feature engineering completed\n"
     ]
    }
   ],
   "source": [
    "train_df = feature_engineering(train_data, preprocess_comment)\n",
    "val_df = feature_engineering(val_data, preprocess_comment)\n",
    "test_df = feature_engineering(test_data, preprocess_comment)\n"
   ]
  },
  {
   "cell_type": "code",
   "execution_count": 8,
   "id": "23273140",
   "metadata": {},
   "outputs": [
    {
     "data": {
      "text/plain": [
       "category\n",
       "1    7799\n",
       "0    3048\n",
       "2    1625\n",
       "Name: count, dtype: int64"
      ]
     },
     "execution_count": 8,
     "metadata": {},
     "output_type": "execute_result"
    }
   ],
   "source": [
    "train_df['category'].value_counts()"
   ]
  },
  {
   "cell_type": "code",
   "execution_count": 9,
   "id": "766d8fec",
   "metadata": {},
   "outputs": [
    {
     "data": {
      "text/plain": [
       "category\n",
       "1    1123\n",
       "0     431\n",
       "2     233\n",
       "Name: count, dtype: int64"
      ]
     },
     "execution_count": 9,
     "metadata": {},
     "output_type": "execute_result"
    }
   ],
   "source": [
    "val_df['category'].value_counts()"
   ]
  },
  {
   "cell_type": "code",
   "execution_count": 10,
   "id": "bb581289",
   "metadata": {},
   "outputs": [
    {
     "data": {
      "text/plain": [
       "category\n",
       "1    2262\n",
       "0     897\n",
       "2     467\n",
       "Name: count, dtype: int64"
      ]
     },
     "execution_count": 10,
     "metadata": {},
     "output_type": "execute_result"
    }
   ],
   "source": [
    "test_df['category'].value_counts()"
   ]
  },
  {
   "cell_type": "markdown",
   "id": "a16dc95a",
   "metadata": {},
   "source": [
    "## Saving the dataset"
   ]
  },
  {
   "cell_type": "code",
   "execution_count": 11,
   "id": "a443db58",
   "metadata": {},
   "outputs": [
    {
     "name": "stderr",
     "output_type": "stream",
     "text": [
      "2025-10-12 02:18:11,082 - model_building - DEBUG - Processed data saved to data/interim\n"
     ]
    }
   ],
   "source": [
    "save_data(train_df, val_df, test_df, INTERIM_DATA_PATH)"
   ]
  },
  {
   "cell_type": "markdown",
   "id": "f5b47c01",
   "metadata": {},
   "source": [
    "## Instantiating MLflow"
   ]
  },
  {
   "cell_type": "code",
   "execution_count": 12,
   "id": "1b2c9512",
   "metadata": {},
   "outputs": [
    {
     "name": "stdout",
     "output_type": "stream",
     "text": [
      "🏃 View run beautiful-finch-204 at: http://3.29.137.20:5000/#/experiments/0/runs/553e7440e15240a49147366b6b618c79\n",
      "🧪 View experiment at: http://3.29.137.20:5000/#/experiments/0\n"
     ]
    }
   ],
   "source": [
    "# Test mlflow\n",
    "\n",
    "import mlflow\n",
    "import os \n",
    "\n",
    "# Set AWS credentials (replace with your actual credentials)\n",
    "os.environ['AWS_ACCESS_KEY_ID'] = os.getenv('AWS_ACCESS_KEY_ID')\n",
    "os.environ['AWS_SECRET_ACCESS_KEY'] = os.getenv('AWS_SECRET_ACCESS_KEY')\n",
    "os.environ['AWS_DEFAULT_REGION'] = os.getenv('AWS_DEFAULT_REGION')\n",
    "\n",
    "# Then set MLflow tracking URI\n",
    "mlflow.set_tracking_uri(\"http://3.29.137.20:5000\")\n",
    "\n",
    "with mlflow.start_run():\n",
    "    mlflow.log_param(\"param1\", 15)\n",
    "    mlflow.log_metric(\"metric1\", 0.89)"
   ]
  },
  {
   "cell_type": "code",
   "execution_count": 13,
   "id": "147109c5",
   "metadata": {},
   "outputs": [],
   "source": [
    "import mlflow.sklearn\n",
    "from sklearn.ensemble import RandomForestClassifier\n",
    "from sklearn.feature_extraction.text import CountVectorizer\n",
    "from sklearn.metrics import accuracy_score, classification_report, confusion_matrix\n",
    "import pandas as pd\n",
    "import matplotlib.pyplot as plt\n",
    "import seaborn as sns"
   ]
  },
  {
   "cell_type": "code",
   "execution_count": 14,
   "id": "611dc1c7",
   "metadata": {},
   "outputs": [],
   "source": [
    "# Step 1: Vectorize the comments using Bag of Words (CountVectorizer)\n",
    "vectorizer = CountVectorizer(max_features=10000)  # Bag of Words model with a limit of 1000 features"
   ]
  },
  {
   "cell_type": "code",
   "execution_count": 15,
   "id": "69c9bbbd",
   "metadata": {},
   "outputs": [
    {
     "data": {
      "text/html": [
       "<div>\n",
       "<style scoped>\n",
       "    .dataframe tbody tr th:only-of-type {\n",
       "        vertical-align: middle;\n",
       "    }\n",
       "\n",
       "    .dataframe tbody tr th {\n",
       "        vertical-align: top;\n",
       "    }\n",
       "\n",
       "    .dataframe thead th {\n",
       "        text-align: right;\n",
       "    }\n",
       "</style>\n",
       "<table border=\"1\" class=\"dataframe\">\n",
       "  <thead>\n",
       "    <tr style=\"text-align: right;\">\n",
       "      <th></th>\n",
       "      <th>word_count</th>\n",
       "      <th>num_stop_words</th>\n",
       "      <th>num_chars</th>\n",
       "      <th>clean_comment</th>\n",
       "      <th>num_chars_cleaned</th>\n",
       "      <th>category</th>\n",
       "    </tr>\n",
       "  </thead>\n",
       "  <tbody>\n",
       "    <tr>\n",
       "      <th>4798</th>\n",
       "      <td>29</td>\n",
       "      <td>7</td>\n",
       "      <td>170</td>\n",
       "      <td>040 grandmaster v computer super blue first pl...</td>\n",
       "      <td>144</td>\n",
       "      <td>2</td>\n",
       "    </tr>\n",
       "    <tr>\n",
       "      <th>17320</th>\n",
       "      <td>112</td>\n",
       "      <td>55</td>\n",
       "      <td>579</td>\n",
       "      <td>thank much happy found channel software engine...</td>\n",
       "      <td>381</td>\n",
       "      <td>1</td>\n",
       "    </tr>\n",
       "    <tr>\n",
       "      <th>4632</th>\n",
       "      <td>27</td>\n",
       "      <td>11</td>\n",
       "      <td>157</td>\n",
       "      <td>hope lichess remains forbidden platform sell o...</td>\n",
       "      <td>113</td>\n",
       "      <td>0</td>\n",
       "    </tr>\n",
       "    <tr>\n",
       "      <th>1327</th>\n",
       "      <td>19</td>\n",
       "      <td>8</td>\n",
       "      <td>104</td>\n",
       "      <td>maguire need standing ovation staying one god ...</td>\n",
       "      <td>75</td>\n",
       "      <td>1</td>\n",
       "    </tr>\n",
       "    <tr>\n",
       "      <th>16856</th>\n",
       "      <td>21</td>\n",
       "      <td>6</td>\n",
       "      <td>138</td>\n",
       "      <td>shilpa absolutely hilarious film outstanding p...</td>\n",
       "      <td>114</td>\n",
       "      <td>1</td>\n",
       "    </tr>\n",
       "    <tr>\n",
       "      <th>...</th>\n",
       "      <td>...</td>\n",
       "      <td>...</td>\n",
       "      <td>...</td>\n",
       "      <td>...</td>\n",
       "      <td>...</td>\n",
       "      <td>...</td>\n",
       "    </tr>\n",
       "    <tr>\n",
       "      <th>4803</th>\n",
       "      <td>34</td>\n",
       "      <td>15</td>\n",
       "      <td>197</td>\n",
       "      <td>35000 awkwardthe interview happening sponsor c...</td>\n",
       "      <td>135</td>\n",
       "      <td>2</td>\n",
       "    </tr>\n",
       "    <tr>\n",
       "      <th>13715</th>\n",
       "      <td>48</td>\n",
       "      <td>28</td>\n",
       "      <td>253</td>\n",
       "      <td>really interesting think animal around literal...</td>\n",
       "      <td>134</td>\n",
       "      <td>1</td>\n",
       "    </tr>\n",
       "    <tr>\n",
       "      <th>3091</th>\n",
       "      <td>20</td>\n",
       "      <td>9</td>\n",
       "      <td>105</td>\n",
       "      <td>follows step perfectly slowly succeeds also ok...</td>\n",
       "      <td>69</td>\n",
       "      <td>1</td>\n",
       "    </tr>\n",
       "    <tr>\n",
       "      <th>9364</th>\n",
       "      <td>21</td>\n",
       "      <td>10</td>\n",
       "      <td>107</td>\n",
       "      <td>let take moment appreciate time hunni take mak...</td>\n",
       "      <td>69</td>\n",
       "      <td>1</td>\n",
       "    </tr>\n",
       "    <tr>\n",
       "      <th>15475</th>\n",
       "      <td>12</td>\n",
       "      <td>7</td>\n",
       "      <td>60</td>\n",
       "      <td>guy said screen protector useless</td>\n",
       "      <td>33</td>\n",
       "      <td>2</td>\n",
       "    </tr>\n",
       "  </tbody>\n",
       "</table>\n",
       "<p>12472 rows × 6 columns</p>\n",
       "</div>"
      ],
      "text/plain": [
       "       word_count  num_stop_words  num_chars  \\\n",
       "4798           29               7        170   \n",
       "17320         112              55        579   \n",
       "4632           27              11        157   \n",
       "1327           19               8        104   \n",
       "16856          21               6        138   \n",
       "...           ...             ...        ...   \n",
       "4803           34              15        197   \n",
       "13715          48              28        253   \n",
       "3091           20               9        105   \n",
       "9364           21              10        107   \n",
       "15475          12               7         60   \n",
       "\n",
       "                                           clean_comment  num_chars_cleaned  \\\n",
       "4798   040 grandmaster v computer super blue first pl...                144   \n",
       "17320  thank much happy found channel software engine...                381   \n",
       "4632   hope lichess remains forbidden platform sell o...                113   \n",
       "1327   maguire need standing ovation staying one god ...                 75   \n",
       "16856  shilpa absolutely hilarious film outstanding p...                114   \n",
       "...                                                  ...                ...   \n",
       "4803   35000 awkwardthe interview happening sponsor c...                135   \n",
       "13715  really interesting think animal around literal...                134   \n",
       "3091   follows step perfectly slowly succeeds also ok...                 69   \n",
       "9364   let take moment appreciate time hunni take mak...                 69   \n",
       "15475                  guy said screen protector useless                 33   \n",
       "\n",
       "       category  \n",
       "4798          2  \n",
       "17320         1  \n",
       "4632          0  \n",
       "1327          1  \n",
       "16856         1  \n",
       "...         ...  \n",
       "4803          2  \n",
       "13715         1  \n",
       "3091          1  \n",
       "9364          1  \n",
       "15475         2  \n",
       "\n",
       "[12472 rows x 6 columns]"
      ]
     },
     "execution_count": 15,
     "metadata": {},
     "output_type": "execute_result"
    }
   ],
   "source": [
    "train_df\n"
   ]
  },
  {
   "cell_type": "code",
   "execution_count": 16,
   "id": "96e293e1",
   "metadata": {},
   "outputs": [
    {
     "name": "stdout",
     "output_type": "stream",
     "text": [
      "✓ Text features shape: (12472, 10000)\n",
      "✓ Numerical features shape: (12472, 4)\n",
      "✓ Combined features shape: (12472, 10004)\n",
      "✓ Total features: 10004 (Text: 10000, Numerical: 4)\n"
     ]
    }
   ],
   "source": [
    "# Step 1: Vectorize the text comments (Bag of Words)\n",
    "X_train_text = vectorizer.fit_transform(train_df['clean_comment']).toarray()\n",
    "X_val_text = vectorizer.transform(val_df['clean_comment']).toarray()\n",
    "\n",
    "# Step 2: Extract numerical features\n",
    "# Define the numerical feature columns to include\n",
    "numerical_features = ['word_count', 'num_stop_words', 'num_chars', 'num_chars_cleaned']\n",
    "\n",
    "X_train_numerical = train_df[numerical_features].values\n",
    "X_val_numerical = val_df[numerical_features].values\n",
    "\n",
    "# Step 3: Combine text features with numerical features\n",
    "import numpy as np\n",
    "\n",
    "X_train = np.hstack([X_train_text, X_train_numerical])\n",
    "X_val = np.hstack([X_val_text, X_val_numerical])\n",
    "\n",
    "# Target variable\n",
    "y_train = train_df['category']\n",
    "y_val = val_df['category']\n",
    "\n",
    "print(f\"✓ Text features shape: {X_train_text.shape}\")\n",
    "print(f\"✓ Numerical features shape: {X_train_numerical.shape}\")\n",
    "print(f\"✓ Combined features shape: {X_train.shape}\")\n",
    "print(f\"✓ Total features: {X_train.shape[1]} (Text: {X_train_text.shape[1]}, Numerical: {X_train_numerical.shape[1]})\")"
   ]
  },
  {
   "cell_type": "code",
   "execution_count": 17,
   "id": "9cd78b29",
   "metadata": {},
   "outputs": [
    {
     "data": {
      "text/plain": [
       "array([[  0,   0,   0, ...,   7, 170, 144],\n",
       "       [  0,   0,   0, ...,  55, 579, 381],\n",
       "       [  0,   0,   0, ...,  11, 157, 113],\n",
       "       ...,\n",
       "       [  0,   0,   0, ...,   9, 105,  69],\n",
       "       [  0,   0,   0, ...,  10, 107,  69],\n",
       "       [  0,   0,   0, ...,   7,  60,  33]], shape=(12472, 10004))"
      ]
     },
     "execution_count": 17,
     "metadata": {},
     "output_type": "execute_result"
    }
   ],
   "source": [
    "X_train\n"
   ]
  },
  {
   "cell_type": "code",
   "execution_count": 18,
   "id": "195ddb22",
   "metadata": {},
   "outputs": [
    {
     "data": {
      "text/plain": [
       "4798     2\n",
       "17320    1\n",
       "4632     0\n",
       "1327     1\n",
       "16856    1\n",
       "        ..\n",
       "4803     2\n",
       "13715    1\n",
       "3091     1\n",
       "9364     1\n",
       "15475    2\n",
       "Name: category, Length: 12472, dtype: int64"
      ]
     },
     "execution_count": 18,
     "metadata": {},
     "output_type": "execute_result"
    }
   ],
   "source": [
    "y_train"
   ]
  },
  {
   "cell_type": "code",
   "execution_count": 19,
   "id": "7fa4c4ca",
   "metadata": {},
   "outputs": [
    {
     "data": {
      "text/plain": [
       "<Experiment: artifact_location='s3://mlflow-artifacts-5fb77f1c/207194973073877902', creation_time=1760220538108, experiment_id='207194973073877902', last_update_time=1760220538108, lifecycle_stage='active', name='RF Baseline Model', tags={'mlflow.experimentKind': 'custom_model_development'}>"
      ]
     },
     "execution_count": 19,
     "metadata": {},
     "output_type": "execute_result"
    }
   ],
   "source": [
    "# Set or create an experiment\n",
    "mlflow.set_experiment(\"RF Baseline Model\")"
   ]
  },
  {
   "cell_type": "code",
   "execution_count": 20,
   "id": "dc96e0db",
   "metadata": {},
   "outputs": [
    {
     "name": "stderr",
     "output_type": "stream",
     "text": [
      "2025/10/12 02:18:30 WARNING mlflow.models.model: `artifact_path` is deprecated. Please use `name` instead.\n",
      "\u001b[31m2025/10/12 02:18:32 WARNING mlflow.models.model: Model logged without a signature and input example. Please set `input_example` parameter when logging the model to auto infer the model signature.\u001b[0m\n"
     ]
    },
    {
     "name": "stdout",
     "output_type": "stream",
     "text": [
      "🏃 View run RandomForest_Baseline_TrainTestSplit at: http://3.29.137.20:5000/#/experiments/207194973073877902/runs/b87d8ad0648c449bb18972446802a316\n",
      "🧪 View experiment at: http://3.29.137.20:5000/#/experiments/207194973073877902\n",
      "Accuracy: 0.6401790710688304\n"
     ]
    },
    {
     "data": {
      "image/png": "[encoded data removed]",
      "text/plain": [
       "<Figure size 800x600 with 2 Axes>"
      ]
     },
     "metadata": {},
     "output_type": "display_data"
    }
   ],
   "source": [
    "# Step 2: Define and train a Random Forest baseline model using a simple train-test split\n",
    "with mlflow.start_run() as run:\n",
    "    # Log a description for the run\n",
    "    mlflow.set_tag(\"mlflow.runName\", \"RandomForest_Baseline_TrainTestSplit\")\n",
    "    mlflow.set_tag(\"experiment_type\", \"baseline\")\n",
    "    mlflow.set_tag(\"model_type\", \"RandomForestClassifier\")\n",
    "\n",
    "    # Add a description\n",
    "    mlflow.set_tag(\"description\", \"Baseline RandomForest model for sentiment analysis using Bag of Words (BoW) with a simple train-validation split\")\n",
    "\n",
    "    # Log parameters for the vectorizer\n",
    "    mlflow.log_param(\"vectorizer_type\", \"CountVectorizer\")\n",
    "    mlflow.log_param(\"vectorizer_max_features\", vectorizer.max_features)\n",
    "    \n",
    "    # Log feature information\n",
    "    mlflow.log_param(\"text_features\", X_train_text.shape[1])\n",
    "    mlflow.log_param(\"numerical_features\", X_train_numerical.shape[1])\n",
    "    mlflow.log_param(\"total_features\", X_train.shape[1])\n",
    "    mlflow.log_param(\"numerical_feature_names\", \", \".join(numerical_features))\n",
    "\n",
    "    # Log Random Forest parameters\n",
    "    n_estimators = 200\n",
    "    max_depth = 15\n",
    "\n",
    "    mlflow.log_param(\"n_estimators\", n_estimators)\n",
    "    mlflow.log_param(\"max_depth\", max_depth)\n",
    "\n",
    "    # Initialize and train the model\n",
    "    model = RandomForestClassifier(n_estimators=n_estimators, max_depth=max_depth, random_state=42)\n",
    "    model.fit(X_train, y_train)\n",
    "\n",
    "    # Make predictions on the test set\n",
    "    y_pred = model.predict(X_val)\n",
    "\n",
    "    # Log metrics for each class and accuracy\n",
    "    accuracy = accuracy_score(y_val, y_pred)\n",
    "    mlflow.log_metric(\"accuracy\", accuracy)\n",
    "\n",
    "    classification_rep = classification_report(y_val, y_pred, output_dict=True)\n",
    "\n",
    "    for label, metrics in classification_rep.items():\n",
    "        if isinstance(metrics, dict):  # For precision, recall, f1-score, etc.\n",
    "            for metric, value in metrics.items():\n",
    "                mlflow.log_metric(f\"{label}_{metric}\", value)\n",
    "\n",
    "    # Confusion matrix plot\n",
    "    conf_matrix = confusion_matrix(y_val, y_pred)\n",
    "    plt.figure(figsize=(8, 6))\n",
    "    sns.heatmap(conf_matrix, annot=True, fmt=\"d\", cmap=\"Blues\")\n",
    "    plt.xlabel(\"Predicted\")\n",
    "    plt.ylabel(\"Actual\")\n",
    "    plt.title(\"Confusion Matrix\")\n",
    "\n",
    "    # Log the Random Forest model\n",
    "    mlflow.sklearn.log_model(model, \"random_forest_model\")\n",
    "\n",
    "# Display final accuracy\n",
    "print(f\"Accuracy: {accuracy}\")"
   ]
  },
  {
   "cell_type": "code",
   "execution_count": 22,
   "id": "7e4aaea7",
   "metadata": {},
   "outputs": [
    {
     "name": "stdout",
     "output_type": "stream",
     "text": [
      "              precision    recall  f1-score   support\n",
      "\n",
      "           0       0.86      0.06      0.10       431\n",
      "           1       0.64      1.00      0.78      1123\n",
      "           2       1.00      0.00      0.01       233\n",
      "\n",
      "    accuracy                           0.64      1787\n",
      "   macro avg       0.83      0.35      0.30      1787\n",
      "weighted avg       0.74      0.64      0.51      1787\n",
      "\n"
     ]
    }
   ],
   "source": [
    "print(classification_report(y_val, y_pred))"
   ]
  },
  {
   "cell_type": "code",
   "execution_count": 21,
   "id": "80faaa6c",
   "metadata": {},
   "outputs": [
    {
     "name": "stdout",
     "output_type": "stream",
     "text": [
      "✓ Test set prepared with 10004 features\n",
      "✓ Test samples: 3626\n"
     ]
    }
   ],
   "source": [
    "# Prepare test set with the same feature engineering approach\n",
    "# This will be useful when you want to evaluate on the test set\n",
    "\n",
    "X_test_text = vectorizer.transform(test_df['clean_comment']).toarray()\n",
    "X_test_numerical = test_df[numerical_features].values\n",
    "X_test = np.hstack([X_test_text, X_test_numerical])\n",
    "y_test = test_df['category']\n",
    "\n",
    "print(f\"✓ Test set prepared with {X_test.shape[1]} features\")\n",
    "print(f\"✓ Test samples: {X_test.shape[0]}\")\n"
   ]
  },
  {
   "cell_type": "code",
   "execution_count": null,
   "id": "d9b5ba9e",
   "metadata": {},
   "outputs": [],
   "source": []
  }
 ],
 "metadata": {
  "kernelspec": {
   "display_name": "mlops_aws_community",
   "language": "python",
   "name": "python3"
  },
  "language_info": {
   "codemirror_mode": {
    "name": "ipython",
    "version": 3
   },
   "file_extension": ".py",
   "mimetype": "text/x-python",
   "name": "python",
   "nbconvert_exporter": "python",
   "pygments_lexer": "ipython3",
   "version": "3.12.11"
  }
 },
 "nbformat": 4,
 "nbformat_minor": 5
}
